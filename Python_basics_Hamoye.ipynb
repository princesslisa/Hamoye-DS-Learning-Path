{
  "nbformat": 4,
  "nbformat_minor": 0,
  "metadata": {
    "colab": {
      "name": "Python basics Hamoye.ipynb",
      "provenance": [],
      "toc_visible": true,
      "authorship_tag": "ABX9TyNLnHhvu7sbPDumVio6DS4T",
      "include_colab_link": true
    },
    "kernelspec": {
      "name": "python3",
      "display_name": "Python 3"
    },
    "language_info": {
      "name": "python"
    }
  },
  "cells": [
    {
      "cell_type": "markdown",
      "metadata": {
        "id": "view-in-github",
        "colab_type": "text"
      },
      "source": [
        "<a href=\"https://colab.research.google.com/github/princesslisa/Hamoye-DS-Learning-Path/blob/master/Python_basics_Hamoye.ipynb\" target=\"_parent\"><img src=\"https://colab.research.google.com/assets/colab-badge.svg\" alt=\"Open In Colab\"/></a>"
      ]
    },
    {
      "cell_type": "code",
      "execution_count": null,
      "metadata": {
        "colab": {
          "base_uri": "https://localhost:8080/"
        },
        "id": "97zei3CRxVzp",
        "outputId": "9cc66813-8624-43c2-add0-7f61d85ede5e"
      },
      "outputs": [
        {
          "output_type": "stream",
          "name": "stdout",
          "text": [
            "ilovecoding\n"
          ]
        }
      ],
      "source": [
        "print ('i' + 'love' + 'coding')"
      ]
    },
    {
      "cell_type": "code",
      "source": [
        "first_name = \"princess\"\n",
        "last_name = \"Ogbechie\"\n",
        "full_name = first_name + \" \" + last_name\n",
        "print (full_name)"
      ],
      "metadata": {
        "colab": {
          "base_uri": "https://localhost:8080/"
        },
        "id": "mfXsi8bszPiW",
        "outputId": "a70a9811-b4f8-4465-8c18-7ca4cda55ffa"
      },
      "execution_count": null,
      "outputs": [
        {
          "output_type": "stream",
          "name": "stdout",
          "text": [
            "Princess Ogbechie\n"
          ]
        }
      ]
    },
    {
      "cell_type": "code",
      "source": [
        "print('Hello, {}. You are {} today.'.format(first_name,22))"
      ],
      "metadata": {
        "colab": {
          "base_uri": "https://localhost:8080/"
        },
        "id": "Jw99e4nL0YIs",
        "outputId": "b146f178-7550-4508-c3b9-d6e824650e59"
      },
      "execution_count": null,
      "outputs": [
        {
          "output_type": "stream",
          "name": "stdout",
          "text": [
            "Hello, Princess. You are 22 today\n"
          ]
        }
      ]
    },
    {
      "cell_type": "code",
      "source": [
        "print(first_name.title())\n",
        "print(first_name.upper())\n",
        "print(last_name.lower())"
      ],
      "metadata": {
        "colab": {
          "base_uri": "https://localhost:8080/"
        },
        "id": "5P-Np4lP13Lw",
        "outputId": "e647d907-f86a-45a0-89c3-7dc09fdfbf94"
      },
      "execution_count": null,
      "outputs": [
        {
          "output_type": "stream",
          "name": "stdout",
          "text": [
            "Princess\n",
            "PRINCESS\n",
            "ogbechie\n"
          ]
        }
      ]
    },
    {
      "cell_type": "code",
      "source": [
        "print(f'Hello {first_name}')"
      ],
      "metadata": {
        "colab": {
          "base_uri": "https://localhost:8080/"
        },
        "id": "4E_eKgt40szE",
        "outputId": "fec87747-53ed-4bf3-a199-df9773237f58"
      },
      "execution_count": null,
      "outputs": [
        {
          "output_type": "stream",
          "name": "stdout",
          "text": [
            "Hello Princess\n"
          ]
        }
      ]
    },
    {
      "cell_type": "code",
      "source": [
        "word = \"Animal\"\n",
        "print(word[3])"
      ],
      "metadata": {
        "colab": {
          "base_uri": "https://localhost:8080/"
        },
        "id": "2w5SLptM1K9O",
        "outputId": "1a90ddb6-41df-4e82-b7a8-7dc48df593fc"
      },
      "execution_count": null,
      "outputs": [
        {
          "output_type": "stream",
          "name": "stdout",
          "text": [
            "m\n"
          ]
        }
      ]
    },
    {
      "cell_type": "code",
      "source": [
        "world = \"Hello, World!\"\n",
        "print(world.replace(\"!\",\".\"))"
      ],
      "metadata": {
        "colab": {
          "base_uri": "https://localhost:8080/"
        },
        "id": "nFmLToJ62xP2",
        "outputId": "ad7d8b79-b2cc-4db1-d664-385f9f4c5c24"
      },
      "execution_count": null,
      "outputs": [
        {
          "output_type": "stream",
          "name": "stdout",
          "text": [
            "Hello, World.\n"
          ]
        }
      ]
    },
    {
      "cell_type": "code",
      "source": [
        "sentence = \"Welcome to Hamoye Externship\"\n",
        "print(sentence.find('ship'))"
      ],
      "metadata": {
        "colab": {
          "base_uri": "https://localhost:8080/"
        },
        "id": "EB2Y5T2n3KJm",
        "outputId": "965e1e7a-1f25-4cef-b0b7-2b9fe4030d15"
      },
      "execution_count": null,
      "outputs": [
        {
          "output_type": "stream",
          "name": "stdout",
          "text": [
            "24\n"
          ]
        }
      ]
    },
    {
      "cell_type": "markdown",
      "source": [
        "# Lists"
      ],
      "metadata": {
        "id": "8btOAVw43doF"
      }
    },
    {
      "cell_type": "code",
      "source": [
        "Names = ['Zahara', \"David\", \"Abigail\"]\n",
        "Names.sort()\n",
        "print(Names)"
      ],
      "metadata": {
        "colab": {
          "base_uri": "https://localhost:8080/"
        },
        "id": "_wjE58Ti4ayV",
        "outputId": "ddb38cb5-d693-49d9-96fb-777d0262e2df"
      },
      "execution_count": null,
      "outputs": [
        {
          "output_type": "stream",
          "name": "stdout",
          "text": [
            "['Abigail', 'David', 'Zahara']\n"
          ]
        }
      ]
    },
    {
      "cell_type": "code",
      "source": [
        "list1 = [\"Cat\",\"Dog\",[\"Fish\",\"crocodile\"], 70]\n",
        "list2 = list1[2]\n",
        "print(type(list1))\n",
        "list1.extend([\"Thursday\",\"Friday\"])\n",
        "print(list1)"
      ],
      "metadata": {
        "colab": {
          "base_uri": "https://localhost:8080/"
        },
        "id": "JG7ISokr4o69",
        "outputId": "5de10b58-e274-42c7-c3fd-08f3bb08f698"
      },
      "execution_count": null,
      "outputs": [
        {
          "output_type": "stream",
          "name": "stdout",
          "text": [
            "<class 'list'>\n",
            "['Cat', 'Dog', ['Fish', 'crocodile'], 70, 'Thursday', 'Friday']\n"
          ]
        }
      ]
    },
    {
      "cell_type": "code",
      "source": [
        ""
      ],
      "metadata": {
        "id": "R5quJ0Kjh5Ju"
      },
      "execution_count": null,
      "outputs": []
    },
    {
      "cell_type": "code",
      "source": [
        "student1 = [\"Godwin\",24, \"computer science\"]\n",
        "print(student1)\n",
        "#update student Godwin's age\n",
        "student1[1] = 25\n",
        "print(student1)"
      ],
      "metadata": {
        "id": "N88uUAVq5O23"
      },
      "execution_count": null,
      "outputs": []
    },
    {
      "cell_type": "code",
      "source": [
        "string1 = \"Monday\"\n",
        "list1 = list(string1)\n",
        "print(list1)"
      ],
      "metadata": {
        "colab": {
          "base_uri": "https://localhost:8080/"
        },
        "id": "HgKXnetOh6pk",
        "outputId": "c3c0bd2a-8d78-4be6-918c-08a02c3ee644"
      },
      "execution_count": null,
      "outputs": [
        {
          "output_type": "stream",
          "name": "stdout",
          "text": [
            "['M', 'o', 'n', 'd', 'a', 'y']\n"
          ]
        }
      ]
    },
    {
      "cell_type": "markdown",
      "source": [
        "# Sets"
      ],
      "metadata": {
        "id": "dDJN1kCtFFis"
      }
    },
    {
      "cell_type": "code",
      "source": [
        "colours = set([\"red\",\"black\",\"blue\",\"black\",\"green\"])\n",
        "port ={\"pink\",\"white\"}\n",
        "colours.update(port)\n",
        "print(port.issubset(colours))"
      ],
      "metadata": {
        "colab": {
          "base_uri": "https://localhost:8080/"
        },
        "id": "VtJey35oFII6",
        "outputId": "31144c29-dc25-45df-875c-3ede346dc0d7"
      },
      "execution_count": null,
      "outputs": [
        {
          "output_type": "stream",
          "name": "stdout",
          "text": [
            "True\n"
          ]
        }
      ]
    },
    {
      "cell_type": "code",
      "source": [
        "colours = set([\"red\",\"black\",\"blue\",\"black\",\"green\"])\n",
        "port ={\"pink\",\"white\",\"blue\"}\n",
        "\n",
        "print(colours.union(port))\n",
        "print(colours.intersection(port))\n",
        "print(colours.isdisjoint(port))"
      ],
      "metadata": {
        "colab": {
          "base_uri": "https://localhost:8080/"
        },
        "id": "lJjzGHfKIngY",
        "outputId": "896ef099-f21f-4cf9-d918-0ffb3dbf4325"
      },
      "execution_count": null,
      "outputs": [
        {
          "output_type": "stream",
          "name": "stdout",
          "text": [
            "{'blue', 'pink', 'red', 'green', 'black', 'white'}\n",
            "{'blue'}\n",
            "False\n"
          ]
        }
      ]
    },
    {
      "cell_type": "markdown",
      "source": [
        "## Dictionary"
      ],
      "metadata": {
        "id": "idBpmVLTL2fa"
      }
    },
    {
      "cell_type": "code",
      "source": [
        ""
      ],
      "metadata": {
        "id": "56WvOFOLL-Zk"
      },
      "execution_count": null,
      "outputs": []
    }
  ]
}
{
 "cells": [
  {
   "cell_type": "code",
   "execution_count": null,
   "id": "2f18d847",
   "metadata": {},
   "outputs": [],
   "source": [
    "# convention for importing numpy\n",
    "import numpy as np\n",
    "\n",
    "arr = [6,7,8,9]\n",
    "print(type(arr))"
   ]
  },
  {
   "cell_type": "code",
   "execution_count": null,
   "id": "d0cced1f",
   "metadata": {},
   "outputs": [],
   "source": [
    "a = np.arrray(arr)\n",
    "print(type(a))\n",
    "print(a.shape)\n",
    "print(a.type)\n",
    "\n",
    "print(a.ndim)"
   ]
  }
 ],
 "metadata": {
  "kernelspec": {
   "display_name": "Python 3 (ipykernel)",
   "language": "python",
   "name": "python3"
  },
  "language_info": {
   "codemirror_mode": {
    "name": "ipython",
    "version": 3
   },
   "file_extension": ".py",
   "mimetype": "text/x-python",
   "name": "python",
   "nbconvert_exporter": "python",
   "pygments_lexer": "ipython3",
   "version": "3.9.5"
  }
 },
 "nbformat": 4,
 "nbformat_minor": 5
}
